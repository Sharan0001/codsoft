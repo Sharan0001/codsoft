{
  "nbformat": 4,
  "nbformat_minor": 0,
  "metadata": {
    "colab": {
      "provenance": [],
      "include_colab_link": true
    },
    "kernelspec": {
      "name": "python3",
      "display_name": "Python 3"
    },
    "language_info": {
      "name": "python"
    }
  },
  "cells": [
    {
      "cell_type": "markdown",
      "metadata": {
        "id": "view-in-github",
        "colab_type": "text"
      },
      "source": [
        "<a href=\"https://colab.research.google.com/github/Sharan0001/codsoft/blob/main/Untitled0.ipynb\" target=\"_parent\"><img src=\"https://colab.research.google.com/assets/colab-badge.svg\" alt=\"Open In Colab\"/></a>"
      ]
    },
    {
      "cell_type": "code",
      "execution_count": null,
      "metadata": {
        "colab": {
          "base_uri": "https://localhost:8080/",
          "height": 808
        },
        "id": "wSfutAXfmMYB",
        "outputId": "702a8a96-7486-4a39-b588-60ea94ce7364"
      },
      "outputs": [
        {
          "output_type": "stream",
          "name": "stdout",
          "text": [
            "   sepal_length  sepal_width  petal_length  petal_width      species\n",
            "0           5.1          3.5           1.4          0.2  Iris-setosa\n",
            "1           4.9          3.0           1.4          0.2  Iris-setosa\n",
            "2           4.7          3.2           1.3          0.2  Iris-setosa\n",
            "3           4.6          3.1           1.5          0.2  Iris-setosa\n",
            "4           5.0          3.6           1.4          0.2  Iris-setosa\n",
            "Confusion Matrix:\n",
            " [[10  0  0]\n",
            " [ 0  9  0]\n",
            " [ 0  0 11]]\n",
            "\n",
            "Classification Report:\n",
            "                  precision    recall  f1-score   support\n",
            "\n",
            "    Iris-setosa       1.00      1.00      1.00        10\n",
            "Iris-versicolor       1.00      1.00      1.00         9\n",
            " Iris-virginica       1.00      1.00      1.00        11\n",
            "\n",
            "       accuracy                           1.00        30\n",
            "      macro avg       1.00      1.00      1.00        30\n",
            "   weighted avg       1.00      1.00      1.00        30\n",
            "\n"
          ]
        },
        {
          "output_type": "display_data",
          "data": {
            "text/plain": [
              "<Figure size 480x480 with 2 Axes>"
            ],
            "image/png": "[encoded data removed]"
          },
          "metadata": {}
        }
      ],
      "source": [
        "# Import necessary libraries\n",
        "import pandas as pd\n",
        "from sklearn.model_selection import train_test_split\n",
        "from sklearn.preprocessing import StandardScaler\n",
        "from sklearn.neighbors import KNeighborsClassifier\n",
        "from sklearn.metrics import classification_report, confusion_matrix\n",
        "import matplotlib.pyplot as plt\n",
        "\n",
        "# Load the dataset\n",
        "iris_df = pd.read_csv(\"/content/sample_data/IRIS.csv\")\n",
        "\n",
        "# Display the first few rows of the dataset\n",
        "print(iris_df.head())\n",
        "\n",
        "# Splitting the dataset into features (X) and target variable (y)\n",
        "X = iris_df.drop('species', axis=1)\n",
        "y = iris_df['species']\n",
        "\n",
        "# Splitting the dataset into training and testing sets\n",
        "X_train, X_test, y_train, y_test = train_test_split(X, y, test_size=0.2, random_state=42)\n",
        "\n",
        "# Standardizing the features\n",
        "scaler = StandardScaler()\n",
        "X_train = scaler.fit_transform(X_train)\n",
        "X_test = scaler.transform(X_test)\n",
        "\n",
        "# Training the K-Nearest Neighbors classifier\n",
        "knn = KNeighborsClassifier(n_neighbors=3)\n",
        "knn.fit(X_train, y_train)\n",
        "\n",
        "# Predicting the test set results\n",
        "y_pred = knn.predict(X_test)\n",
        "\n",
        "# Evaluating the model\n",
        "print(\"Confusion Matrix:\\n\", confusion_matrix(y_test, y_pred))\n",
        "print(\"\\nClassification Report:\\n\", classification_report(y_test, y_pred))\n",
        "\n",
        "# Visualizing the confusion matrix\n",
        "cm = confusion_matrix(y_test, y_pred)\n",
        "plt.matshow(cm, cmap='Blues')\n",
        "plt.colorbar()\n",
        "plt.xlabel('Predicted')\n",
        "plt.ylabel('Actual')\n",
        "plt.title('Confusion Matrix')\n",
        "plt.xticks([0, 1, 2], iris_df['species'].unique())\n",
        "plt.yticks([0, 1, 2], iris_df['species'].unique())\n",
        "for i in range(len(cm)):\n",
        "    for j in range(len(cm)):\n",
        "        plt.text(j, i, cm[i, j], ha='center', va='center')\n",
        "plt.show()\n"
      ]
    },
    {
      "cell_type": "code",
      "source": [
        "# Assuming you have new data in a pandas DataFrame called new_data\n",
        "# You need to preprocess this new data in the same way as you did with the training data\n",
        "# For example, assuming new_data has the same columns as the original dataset\n",
        "new_data = pd.DataFrame({\n",
        "    'sepal_length': [5.1, 6.2, 7.3],\n",
        "    'sepal_width': [3.5, 2.9, 3.3],\n",
        "    'petal_length': [1.4, 4.3, 6.5],\n",
        "    'petal_width': [0.2, 1.3, 2.0]\n",
        "})\n",
        "\n",
        "# Standardize the new data using the same scaler object used for training data\n",
        "new_data_scaled = scaler.transform(new_data)\n",
        "\n",
        "# Now, use the trained model to predict the species of the new data\n",
        "predicted_species = knn.predict(new_data_scaled)\n",
        "\n",
        "print(\"Predicted species for new data:\")\n",
        "for species in predicted_species:\n",
        "    print(species)\n"
      ],
      "metadata": {
        "colab": {
          "base_uri": "https://localhost:8080/"
        },
        "id": "oafG1mKAoCoB",
        "outputId": "1cec5ee6-d238-44bd-a188-856903dc4f63"
      },
      "execution_count": null,
      "outputs": [
        {
          "output_type": "stream",
          "name": "stdout",
          "text": [
            "Predicted species for new data:\n",
            "Iris-setosa\n",
            "Iris-versicolor\n",
            "Iris-virginica\n"
          ]
        }
      ]
    }
  ]
}